{
  "cells": [
    {
      "cell_type": "code",
      "execution_count": 1,
      "metadata": {
        "colab": {
          "base_uri": "https://localhost:8080/"
        },
        "id": "CHiF2GEMNydk",
        "outputId": "d76abc40-5b88-4772-88cc-3c71173a59d6"
      },
      "outputs": [
        {
          "output_type": "stream",
          "name": "stdout",
          "text": [
            "Mounted at /content/drive\n"
          ]
        }
      ],
      "source": [
        "from google.colab import drive\n",
        "drive.mount('/content/drive')"
      ]
    },
    {
      "cell_type": "code",
      "execution_count": 2,
      "metadata": {
        "colab": {
          "base_uri": "https://localhost:8080/"
        },
        "id": "fqVOdtHDQ8on",
        "outputId": "16ae2c39-fe23-4184-a315-b7d954c1fcc0"
      },
      "outputs": [
        {
          "output_type": "stream",
          "name": "stdout",
          "text": [
            "/content/drive/MyDrive/iterative-tensor-decomposition-colab\n"
          ]
        }
      ],
      "source": [
        "cd drive/MyDrive/iterative-tensor-decomposition-colab"
      ]
    },
    {
      "cell_type": "code",
      "execution_count": 3,
      "metadata": {
        "id": "05Y9zjdCOdCA"
      },
      "outputs": [],
      "source": [
        "from run.run_tca import decompose\n",
        "import numpy as np\n",
        "import torch\n",
        "from core.utilities import get_filename\n",
        "import pickle\n",
        "\n",
        "\n",
        "device = torch.device(\"cuda\" if torch.cuda.is_available() else \"cpu\")\n",
        "\n",
        "cbl = np.load('/content/drive/MyDrive/iterative-tensor-decomposition-colab/data/wagner_cbl_warped.npy')\n",
        "ctx = np.load('/content/drive/MyDrive/iterative-tensor-decomposition-colab/data/wagner_ctx_warped.npy')\n",
        "\n",
        "data = np.concatenate((cbl,ctx), axis=0)\n",
        "\n",
        "data = torch.from_numpy(data).float().permute(1, 0, 2).to(device)"
      ]
    },
    {
      "cell_type": "code",
      "source": [
        "data.shape"
      ],
      "metadata": {
        "colab": {
          "base_uri": "https://localhost:8080/"
        },
        "id": "UbXE3qeNRkA6",
        "outputId": "b5028d60-cfd6-4524-87dc-fabb0c4cd162"
      },
      "execution_count": 4,
      "outputs": [
        {
          "output_type": "execute_result",
          "data": {
            "text/plain": [
              "torch.Size([218, 286, 150])"
            ]
          },
          "metadata": {},
          "execution_count": 4
        }
      ]
    },
    {
      "cell_type": "code",
      "execution_count": 5,
      "metadata": {
        "id": "X06E2010O3ON"
      },
      "outputs": [],
      "source": [
        "#The hyperparameters\n",
        "slice_TCA = True\n",
        "positive = False\n",
        "orthogonal_constraint  = False\n",
        "cross_validation = False\n",
        "orthogonal_penalty = False\n",
        "metric = False\n",
        "cut_cv_mask = 8 # 8 samples = 0.26 s\n",
        "\n",
        "mask_cross_validation = 0.2\n",
        "\n",
        "learning_rate = 0.02\n",
        "mask = 0.8\n",
        "\n",
        "decay_rate_lr = 1\n",
        "decay_rate_mask = 0.5\n",
        "decay_iterations = 5\n",
        "decay_type_lr='exponential'\n",
        "decay_type_mask='exponential'\n",
        "\n",
        "iterations = decay_iterations*199\n",
        "batch_size = 20\n",
        "test_freq = -1\n",
        "initialization = 'uniform'\n",
        "\n",
        "verbose_train = True\n",
        "verbose_test = True"
      ]
    },
    {
      "cell_type": "code",
      "execution_count": 6,
      "metadata": {
        "id": "66c05Fgsj_L9",
        "colab": {
          "base_uri": "https://localhost:8080/",
          "height": 1000
        },
        "outputId": "5f3ed34c-e737-42d6-860a-c4c42bd448a5"
      },
      "outputs": [
        {
          "output_type": "stream",
          "name": "stdout",
          "text": [
            "Iteration: 0 \tmse_loss: 1.2858496904\n",
            "Test -- Iteration: 0 \tmse_loss: 1.2554919720\n",
            "Iteration: 1 \tmse_loss: 1.2543864250\n",
            "Iteration: 2 \tmse_loss: 1.2253611088\n",
            "Iteration: 3 \tmse_loss: 1.1987249851\n",
            "Iteration: 4 \tmse_loss: 1.1744000912\n",
            "Iteration: 5 \tmse_loss: 1.1522874832\n",
            "Iteration: 6 \tmse_loss: 1.1322715282\n",
            "Iteration: 7 \tmse_loss: 1.1142244339\n",
            "Iteration: 8 \tmse_loss: 1.0980088711\n",
            "Iteration: 9 \tmse_loss: 1.0834842920\n",
            "Iteration: 10 \tmse_loss: 1.0705088377\n",
            "Iteration: 11 \tmse_loss: 1.0589436293\n",
            "Iteration: 12 \tmse_loss: 1.0486544371\n",
            "Iteration: 13 \tmse_loss: 1.0395128727\n",
            "Iteration: 14 \tmse_loss: 1.0313990116\n",
            "Iteration: 15 \tmse_loss: 1.0242009163\n",
            "Iteration: 16 \tmse_loss: 1.0178155899\n",
            "Iteration: 17 \tmse_loss: 1.0121488571\n",
            "Iteration: 18 \tmse_loss: 1.0071156025\n",
            "Iteration: 19 \tmse_loss: 1.0026390553\n",
            "Iteration: 20 \tmse_loss: 1.0227922201\n",
            "Test -- Iteration: 20 \tmse_loss: 1.0207266808\n",
            "Iteration: 21 \tmse_loss: 1.0190967321\n",
            "Iteration: 22 \tmse_loss: 1.0153626204\n",
            "Iteration: 23 \tmse_loss: 1.0116922855\n",
            "Iteration: 24 \tmse_loss: 1.0081453323\n",
            "Iteration: 25 \tmse_loss: 1.0047570467\n",
            "Iteration: 26 \tmse_loss: 1.0015467405\n",
            "Iteration: 27 \tmse_loss: 0.9985222220\n",
            "Iteration: 28 \tmse_loss: 0.9956827164\n",
            "Iteration: 29 \tmse_loss: 0.9930220246\n",
            "Iteration: 30 \tmse_loss: 0.9905296564\n",
            "Iteration: 31 \tmse_loss: 0.9881926775\n",
            "Iteration: 32 \tmse_loss: 0.9859961271\n",
            "Iteration: 33 \tmse_loss: 0.9839240909\n",
            "Iteration: 34 \tmse_loss: 0.9819598198\n",
            "Iteration: 35 \tmse_loss: 0.9800865054\n",
            "Iteration: 36 \tmse_loss: 0.9782871008\n",
            "Iteration: 37 \tmse_loss: 0.9765450358\n",
            "Iteration: 38 \tmse_loss: 0.9748438001\n",
            "Iteration: 39 \tmse_loss: 0.9731677771\n",
            "Iteration: 40 \tmse_loss: 0.9875505567\n",
            "Test -- Iteration: 40 \tmse_loss: 0.9891330004\n",
            "Iteration: 41 \tmse_loss: 0.9864731431\n",
            "Iteration: 42 \tmse_loss: 0.9851857424\n",
            "Iteration: 43 \tmse_loss: 0.9837187529\n",
            "Iteration: 44 \tmse_loss: 0.9820954800\n",
            "Iteration: 45 \tmse_loss: 0.9803342223\n",
            "Iteration: 46 \tmse_loss: 0.9784480333\n",
            "Iteration: 47 \tmse_loss: 0.9764453769\n",
            "Iteration: 48 \tmse_loss: 0.9743310809\n",
            "Iteration: 49 \tmse_loss: 0.9721074700\n",
            "Iteration: 50 \tmse_loss: 0.9697755575\n",
            "Iteration: 51 \tmse_loss: 0.9673363566\n",
            "Iteration: 52 \tmse_loss: 0.9647911191\n",
            "Iteration: 53 \tmse_loss: 0.9621424079\n",
            "Iteration: 54 \tmse_loss: 0.9593942761\n",
            "Iteration: 55 \tmse_loss: 0.9565527439\n",
            "Iteration: 56 \tmse_loss: 0.9536259770\n",
            "Iteration: 57 \tmse_loss: 0.9506244063\n",
            "Iteration: 58 \tmse_loss: 0.9475605488\n",
            "Iteration: 59 \tmse_loss: 0.9444484115\n",
            "Iteration: 60 \tmse_loss: 0.9646335840\n",
            "Test -- Iteration: 60 \tmse_loss: 0.9593437910\n",
            "Iteration: 61 \tmse_loss: 0.9624937773\n",
            "Iteration: 62 \tmse_loss: 0.9600502849\n",
            "Iteration: 63 \tmse_loss: 0.9573481083\n",
            "Iteration: 64 \tmse_loss: 0.9544346333\n",
            "Iteration: 65 \tmse_loss: 0.9513570666\n",
            "Iteration: 66 \tmse_loss: 0.9481598735\n",
            "Iteration: 67 \tmse_loss: 0.9448828697\n",
            "Iteration: 68 \tmse_loss: 0.9415602088\n",
            "Iteration: 69 \tmse_loss: 0.9382204413\n",
            "Iteration: 70 \tmse_loss: 0.9348861575\n",
            "Iteration: 71 \tmse_loss: 0.9315753579\n",
            "Iteration: 72 \tmse_loss: 0.9283018112\n",
            "Iteration: 73 \tmse_loss: 0.9250764847\n",
            "Iteration: 74 \tmse_loss: 0.9219084382\n",
            "Iteration: 75 \tmse_loss: 0.9188052416\n",
            "Iteration: 76 \tmse_loss: 0.9157732129\n",
            "Iteration: 77 \tmse_loss: 0.9128176570\n",
            "Iteration: 78 \tmse_loss: 0.9099426866\n",
            "Iteration: 79 \tmse_loss: 0.9071506858\n",
            "Iteration: 80 \tmse_loss: 0.9264492989\n",
            "Test -- Iteration: 80 \tmse_loss: 0.9247040153\n",
            "Iteration: 81 \tmse_loss: 0.9248643517\n",
            "Iteration: 82 \tmse_loss: 0.9228116870\n",
            "Iteration: 83 \tmse_loss: 0.9203903079\n",
            "Iteration: 84 \tmse_loss: 0.9177036881\n",
            "Iteration: 85 \tmse_loss: 0.9148480296\n"
          ]
        },
        {
          "output_type": "error",
          "ename": "KeyboardInterrupt",
          "evalue": "",
          "traceback": [
            "\u001b[0;31m---------------------------------------------------------------------------\u001b[0m",
            "\u001b[0;31mKeyboardInterrupt\u001b[0m                         Traceback (most recent call last)",
            "\u001b[0;32m<ipython-input-6-d6de04dfc551>\u001b[0m in \u001b[0;36m<cell line: 4>\u001b[0;34m()\u001b[0m\n\u001b[1;32m      3\u001b[0m \u001b[0mres\u001b[0m \u001b[0;34m=\u001b[0m \u001b[0;34m[\u001b[0m\u001b[0;34m]\u001b[0m\u001b[0;34m\u001b[0m\u001b[0;34m\u001b[0m\u001b[0m\n\u001b[1;32m      4\u001b[0m \u001b[0;32mfor\u001b[0m \u001b[0mseed\u001b[0m \u001b[0;32min\u001b[0m \u001b[0mrange\u001b[0m\u001b[0;34m(\u001b[0m\u001b[0;36m10\u001b[0m\u001b[0;34m)\u001b[0m\u001b[0;34m:\u001b[0m\u001b[0;34m\u001b[0m\u001b[0;34m\u001b[0m\u001b[0m\n\u001b[0;32m----> 5\u001b[0;31m     res.append(decompose(seed=seed, data=data, number_components=[3,3,0], iterations=iterations,\n\u001b[0m\u001b[1;32m      6\u001b[0m                 \u001b[0mdecay_rate_mask\u001b[0m\u001b[0;34m=\u001b[0m\u001b[0mdecay_rate_mask\u001b[0m\u001b[0;34m,\u001b[0m \u001b[0mdecay_rate_lr\u001b[0m\u001b[0;34m=\u001b[0m\u001b[0mdecay_rate_lr\u001b[0m\u001b[0;34m,\u001b[0m \u001b[0mdecay_iterations\u001b[0m\u001b[0;34m=\u001b[0m\u001b[0mdecay_iterations\u001b[0m\u001b[0;34m,\u001b[0m\u001b[0;34m\u001b[0m\u001b[0;34m\u001b[0m\u001b[0m\n\u001b[1;32m      7\u001b[0m                 \u001b[0mdecay_type_mask\u001b[0m\u001b[0;34m=\u001b[0m\u001b[0mdecay_type_mask\u001b[0m\u001b[0;34m,\u001b[0m \u001b[0mdecay_type_lr\u001b[0m\u001b[0;34m=\u001b[0m\u001b[0mdecay_type_lr\u001b[0m\u001b[0;34m,\u001b[0m \u001b[0mlearning_rate\u001b[0m\u001b[0;34m=\u001b[0m\u001b[0mlearning_rate\u001b[0m\u001b[0;34m,\u001b[0m \u001b[0mmask\u001b[0m\u001b[0;34m=\u001b[0m\u001b[0mmask\u001b[0m\u001b[0;34m,\u001b[0m\u001b[0;34m\u001b[0m\u001b[0;34m\u001b[0m\u001b[0m\n",
            "\u001b[0;32m/content/drive/MyDrive/iterative-tensor-decomposition-colab/run/run_tca.py\u001b[0m in \u001b[0;36mdecompose\u001b[0;34m(seed, data, number_components, iterations, decay_rate_mask, decay_rate_lr, decay_iterations, decay_type_mask, decay_type_lr, learning_rate, mask, cut_cv_mask, mask_cross_validation, batch_size, sliceTCA, positive, orthogonal_penalty, metric, cross_validation, precision, orthogonal_constraint, loss_kernel_sigmas, positive_function, initialization, orthogonal_skip, test_freq, verbose_train, verbose_test, device, animator)\u001b[0m\n\u001b[1;32m     81\u001b[0m     \u001b[0mconvergence\u001b[0m \u001b[0;34m=\u001b[0m \u001b[0;32mFalse\u001b[0m\u001b[0;34m\u001b[0m\u001b[0;34m\u001b[0m\u001b[0m\n\u001b[1;32m     82\u001b[0m     \u001b[0;32mfor\u001b[0m \u001b[0mi\u001b[0m \u001b[0;32min\u001b[0m \u001b[0mrange\u001b[0m\u001b[0;34m(\u001b[0m\u001b[0mdecay_iterations\u001b[0m\u001b[0;34m)\u001b[0m\u001b[0;34m:\u001b[0m\u001b[0;34m\u001b[0m\u001b[0;34m\u001b[0m\u001b[0m\n\u001b[0;32m---> 83\u001b[0;31m         ls, convergence = model.fit(data, max_iter=iterations, learning_rate=learning_rate, mask=mask,\n\u001b[0m\u001b[1;32m     84\u001b[0m                                     \u001b[0mfixed_mask\u001b[0m\u001b[0;34m=\u001b[0m\u001b[0mcv_mask\u001b[0m\u001b[0;34m,\u001b[0m \u001b[0mbatch_size\u001b[0m\u001b[0;34m=\u001b[0m\u001b[0mbatch_size\u001b[0m\u001b[0;34m,\u001b[0m \u001b[0mtest_freq\u001b[0m\u001b[0;34m=\u001b[0m\u001b[0mtest_freq\u001b[0m\u001b[0;34m,\u001b[0m\u001b[0;34m\u001b[0m\u001b[0;34m\u001b[0m\u001b[0m\n\u001b[1;32m     85\u001b[0m                                     verbose_train=verbose_train, verbose_test=verbose_test)\n",
            "\u001b[0;32m/content/drive/MyDrive/iterative-tensor-decomposition-colab/core/classes.py\u001b[0m in \u001b[0;36mfit\u001b[0;34m(self, tensor, max_iter, learning_rate, noise, mask, fixed_mask, batch_size, test_freq, verbose_train, verbose_test)\u001b[0m\n\u001b[1;32m    284\u001b[0m             \u001b[0;31m#         previous = torch.sqrt(l).item()\u001b[0m\u001b[0;34m\u001b[0m\u001b[0;34m\u001b[0m\u001b[0m\n\u001b[1;32m    285\u001b[0m \u001b[0;34m\u001b[0m\u001b[0m\n\u001b[0;32m--> 286\u001b[0;31m             \u001b[0mthat\u001b[0m \u001b[0;34m=\u001b[0m \u001b[0mself\u001b[0m\u001b[0;34m.\u001b[0m\u001b[0mconstruct\u001b[0m\u001b[0;34m(\u001b[0m\u001b[0;34m)\u001b[0m\u001b[0;34m\u001b[0m\u001b[0;34m\u001b[0m\u001b[0m\n\u001b[0m\u001b[1;32m    287\u001b[0m             \u001b[0;32mif\u001b[0m \u001b[0mnoise\u001b[0m \u001b[0;34m!=\u001b[0m \u001b[0;36m0\u001b[0m\u001b[0;34m:\u001b[0m\u001b[0;34m\u001b[0m\u001b[0;34m\u001b[0m\u001b[0m\n\u001b[1;32m    288\u001b[0m                 \u001b[0mthat\u001b[0m \u001b[0;34m=\u001b[0m \u001b[0mthat\u001b[0m\u001b[0;34m+\u001b[0m\u001b[0mnoise\u001b[0m\u001b[0;34m*\u001b[0m\u001b[0mtorch\u001b[0m\u001b[0;34m.\u001b[0m\u001b[0mrandn\u001b[0m\u001b[0;34m(\u001b[0m\u001b[0mself\u001b[0m\u001b[0;34m.\u001b[0m\u001b[0mdims\u001b[0m\u001b[0;34m)\u001b[0m\u001b[0;34m.\u001b[0m\u001b[0mto\u001b[0m\u001b[0;34m(\u001b[0m\u001b[0mself\u001b[0m\u001b[0;34m.\u001b[0m\u001b[0mdevice\u001b[0m\u001b[0;34m)\u001b[0m\u001b[0;34m\u001b[0m\u001b[0;34m\u001b[0m\u001b[0m\n",
            "\u001b[0;32m/content/drive/MyDrive/iterative-tensor-decomposition-colab/core/classes.py\u001b[0m in \u001b[0;36mconstruct\u001b[0;34m(self)\u001b[0m\n\u001b[1;32m     97\u001b[0m     \u001b[0;32mdef\u001b[0m \u001b[0mconstruct\u001b[0m\u001b[0;34m(\u001b[0m\u001b[0mself\u001b[0m\u001b[0;34m)\u001b[0m\u001b[0;34m:\u001b[0m\u001b[0;34m\u001b[0m\u001b[0;34m\u001b[0m\u001b[0m\n\u001b[1;32m     98\u001b[0m \u001b[0;34m\u001b[0m\u001b[0m\n\u001b[0;32m---> 99\u001b[0;31m         \u001b[0mtemp\u001b[0m \u001b[0;34m=\u001b[0m \u001b[0mtorch\u001b[0m\u001b[0;34m.\u001b[0m\u001b[0mzeros\u001b[0m\u001b[0;34m(\u001b[0m\u001b[0mself\u001b[0m\u001b[0;34m.\u001b[0m\u001b[0mdims\u001b[0m\u001b[0;34m)\u001b[0m\u001b[0;34m.\u001b[0m\u001b[0mto\u001b[0m\u001b[0;34m(\u001b[0m\u001b[0mself\u001b[0m\u001b[0;34m.\u001b[0m\u001b[0mdevice\u001b[0m\u001b[0;34m)\u001b[0m\u001b[0;34m\u001b[0m\u001b[0;34m\u001b[0m\u001b[0m\n\u001b[0m\u001b[1;32m    100\u001b[0m \u001b[0;34m\u001b[0m\u001b[0m\n\u001b[1;32m    101\u001b[0m         \u001b[0;32mfor\u001b[0m \u001b[0mi\u001b[0m \u001b[0;32min\u001b[0m \u001b[0mrange\u001b[0m\u001b[0;34m(\u001b[0m\u001b[0mlen\u001b[0m\u001b[0;34m(\u001b[0m\u001b[0mself\u001b[0m\u001b[0;34m.\u001b[0m\u001b[0mcomponents\u001b[0m\u001b[0;34m)\u001b[0m\u001b[0;34m)\u001b[0m\u001b[0;34m:\u001b[0m\u001b[0;34m\u001b[0m\u001b[0;34m\u001b[0m\u001b[0m\n",
            "\u001b[0;31mKeyboardInterrupt\u001b[0m: "
          ]
        }
      ],
      "source": [
        "mask_cross_validation = [0]\n",
        "\n",
        "res = []\n",
        "for seed in range(10):\n",
        "    res.append(decompose(seed=seed, data=data, number_components=[3,3,0], iterations=iterations,\n",
        "                decay_rate_mask=decay_rate_mask, decay_rate_lr=decay_rate_lr, decay_iterations=decay_iterations,\n",
        "                decay_type_mask=decay_type_mask, decay_type_lr=decay_type_lr, learning_rate=learning_rate, mask=mask,\n",
        "                mask_cross_validation=mask_cross_validation[0], batch_size=batch_size, sliceTCA=slice_TCA, positive=positive,\n",
        "                orthogonal_penalty=orthogonal_penalty, metric=metric, cross_validation=False,\n",
        "                precision=torch.float32, orthogonal_constraint=orthogonal_constraint, cut_cv_mask=cut_cv_mask,\n",
        "                initialization=initialization, orthogonal_skip=(), test_freq=-1, verbose_train=verbose_train,\n",
        "                verbose_test=verbose_test, device=device))"
      ]
    },
    {
      "cell_type": "code",
      "execution_count": null,
      "metadata": {
        "id": "R3ufaneEti3B"
      },
      "outputs": [],
      "source": [
        "bestmodel = np.argmin([r[2] for r in res])\n",
        "components, metric_value, ls, l_cv, convergence, model = res[bestmodel]\n",
        "pickle.dump(model.cpu(), open('./Wagner_sliceTCA-3-3-0.p', 'wb'))"
      ]
    },
    {
      "cell_type": "code",
      "source": [
        "models = [r[-1].cpu() for r in res]\n",
        "losses = [r[2] for r in res]"
      ],
      "metadata": {
        "id": "_d6r1s8YUEAu"
      },
      "execution_count": null,
      "outputs": []
    },
    {
      "cell_type": "code",
      "execution_count": null,
      "metadata": {
        "id": "MnzZm1ghu_t8"
      },
      "outputs": [],
      "source": [
        "pickle.dump([models, losses], open('./Wagner_sliceTCA_3-3-0_all-models.p', 'wb'))"
      ]
    },
    {
      "cell_type": "code",
      "source": [
        "|"
      ],
      "metadata": {
        "id": "Rp6Z2PKNhwQb"
      },
      "execution_count": null,
      "outputs": []
    }
  ],
  "metadata": {
    "accelerator": "GPU",
    "colab": {
      "machine_shape": "hm",
      "provenance": []
    },
    "kernelspec": {
      "display_name": "Python 3",
      "name": "python3"
    },
    "language_info": {
      "name": "python"
    }
  },
  "nbformat": 4,
  "nbformat_minor": 0
}